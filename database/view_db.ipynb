{
 "cells": [
  {
   "metadata": {
    "ExecuteTime": {
     "end_time": "2025-04-25T11:02:15.491360Z",
     "start_time": "2025-04-25T11:02:15.478050Z"
    }
   },
   "cell_type": "code",
   "source": [
    "import pandas as pd\n",
    "import sqlite3\n",
    "\n",
    "def load_energy_data(db_path=\"database2.db\"):\n",
    "    # Connect to the database\n",
    "    conn = sqlite3.connect(db_path)\n",
    "\n",
    "    try:\n",
    "        # Load all tables\n",
    "        devices_df = pd.read_sql_query(\"SELECT * FROM devices\", conn)\n",
    "\n",
    "        historical_df = pd.read_sql_query(\"SELECT * FROM historical_energy_readings\", conn)\n",
    "        historical_df[\"timestamp\"] = pd.to_datetime(historical_df[\"timestamp\"])\n",
    "\n",
    "        realtime_df = pd.read_sql_query(\"SELECT * FROM real_time_energy_readings\", conn)\n",
    "        realtime_df[\"timestamp\"] = pd.to_datetime(realtime_df[\"timestamp\"])\n",
    "\n",
    "        predictions_df = pd.read_sql_query(\"SELECT * FROM predictions\", conn)\n",
    "        predictions_df[\"timestamp\"] = pd.to_datetime(predictions_df[\"timestamp\"])\n",
    "\n",
    "        scheduled_tasks_df = pd.read_sql_query(\"SELECT * FROM scheduled_tasks\", conn)\n",
    "        scheduled_tasks_df[\"scheduled_time\"] = pd.to_datetime(scheduled_tasks_df[\"scheduled_time\"], errors='coerce')\n",
    "\n",
    "        anomalies_df = pd.read_sql_query(\"SELECT * FROM anomalies\", conn)\n",
    "        anomalies_df[\"timestamp\"] = pd.to_datetime(anomalies_df[\"timestamp\"])\n",
    "\n",
    "        # Group by switch_id and count anomalies\n",
    "        anomaly_counts = anomalies_df.groupby(\"switch_id\").size().reset_index(name=\"anomaly_count\")\n",
    "\n",
    "    finally:\n",
    "        conn.close()\n",
    "\n",
    "    # Return all DataFrames in a dictionary\n",
    "    return {\n",
    "        \"devices\": devices_df,\n",
    "        \"historical\": historical_df,\n",
    "        \"realtime\": realtime_df,\n",
    "        \"predictions\": predictions_df,\n",
    "        \"scheduled_tasks\": scheduled_tasks_df,\n",
    "        \"anomalies\": anomalies_df,\n",
    "        \"anomaly_counts\": anomaly_counts\n",
    "    }"
   ],
   "id": "11f11f398f97ca26",
   "outputs": [],
   "execution_count": 25
  },
  {
   "metadata": {
    "ExecuteTime": {
     "end_time": "2025-04-25T11:07:32.837346Z",
     "start_time": "2025-04-25T11:07:32.746502Z"
    }
   },
   "cell_type": "code",
   "source": [
    "data = load_energy_data()\n",
    "\n",
    "data[\"devices\"]\n",
    "data[\"historical\"]\n",
    "data['realtime']\n",
    "data['predictions']\n",
    "data['scheduled_tasks']\n",
    "# data['anomalies']\n",
    "# data['anomaly_counts']"
   ],
   "id": "369360e741e4a3d7",
   "outputs": [
    {
     "data": {
      "text/plain": [
       "   task_id switch_id target_date scheduled_time         status\n",
       "0        1     wm_01  2025-04-27            NaT  not_scheduled\n",
       "1        2     dw_01  2025-04-30            NaT  not_scheduled\n",
       "2        3     dw_01  2025-04-29            NaT  not_scheduled"
      ],
      "text/html": [
       "<div>\n",
       "<style scoped>\n",
       "    .dataframe tbody tr th:only-of-type {\n",
       "        vertical-align: middle;\n",
       "    }\n",
       "\n",
       "    .dataframe tbody tr th {\n",
       "        vertical-align: top;\n",
       "    }\n",
       "\n",
       "    .dataframe thead th {\n",
       "        text-align: right;\n",
       "    }\n",
       "</style>\n",
       "<table border=\"1\" class=\"dataframe\">\n",
       "  <thead>\n",
       "    <tr style=\"text-align: right;\">\n",
       "      <th></th>\n",
       "      <th>task_id</th>\n",
       "      <th>switch_id</th>\n",
       "      <th>target_date</th>\n",
       "      <th>scheduled_time</th>\n",
       "      <th>status</th>\n",
       "    </tr>\n",
       "  </thead>\n",
       "  <tbody>\n",
       "    <tr>\n",
       "      <th>0</th>\n",
       "      <td>1</td>\n",
       "      <td>wm_01</td>\n",
       "      <td>2025-04-27</td>\n",
       "      <td>NaT</td>\n",
       "      <td>not_scheduled</td>\n",
       "    </tr>\n",
       "    <tr>\n",
       "      <th>1</th>\n",
       "      <td>2</td>\n",
       "      <td>dw_01</td>\n",
       "      <td>2025-04-30</td>\n",
       "      <td>NaT</td>\n",
       "      <td>not_scheduled</td>\n",
       "    </tr>\n",
       "    <tr>\n",
       "      <th>2</th>\n",
       "      <td>3</td>\n",
       "      <td>dw_01</td>\n",
       "      <td>2025-04-29</td>\n",
       "      <td>NaT</td>\n",
       "      <td>not_scheduled</td>\n",
       "    </tr>\n",
       "  </tbody>\n",
       "</table>\n",
       "</div>"
      ]
     },
     "execution_count": 27,
     "metadata": {},
     "output_type": "execute_result"
    }
   ],
   "execution_count": 27
  }
 ],
 "metadata": {
  "kernelspec": {
   "display_name": "Python 3",
   "language": "python",
   "name": "python3"
  },
  "language_info": {
   "codemirror_mode": {
    "name": "ipython",
    "version": 2
   },
   "file_extension": ".py",
   "mimetype": "text/x-python",
   "name": "python",
   "nbconvert_exporter": "python",
   "pygments_lexer": "ipython2",
   "version": "2.7.6"
  }
 },
 "nbformat": 4,
 "nbformat_minor": 5
}
