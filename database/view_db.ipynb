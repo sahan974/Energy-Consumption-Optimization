{
 "cells": [
  {
   "metadata": {
    "ExecuteTime": {
     "end_time": "2025-04-25T09:32:04.128791Z",
     "start_time": "2025-04-25T09:32:04.101680Z"
    }
   },
   "cell_type": "code",
   "source": [
    "import pandas as pd\n",
    "import sqlite3\n",
    "\n",
    "def load_energy_data(db_path=\"database2.db\"):\n",
    "    # Connect to the database\n",
    "    conn = sqlite3.connect(db_path)\n",
    "\n",
    "    try:\n",
    "        # Load all tables\n",
    "        devices_df = pd.read_sql_query(\"SELECT * FROM devices\", conn)\n",
    "\n",
    "        historical_df = pd.read_sql_query(\"SELECT * FROM historical_energy_readings\", conn)\n",
    "        historical_df[\"timestamp\"] = pd.to_datetime(historical_df[\"timestamp\"])\n",
    "\n",
    "        realtime_df = pd.read_sql_query(\"SELECT * FROM real_time_energy_readings\", conn)\n",
    "        realtime_df[\"timestamp\"] = pd.to_datetime(realtime_df[\"timestamp\"])\n",
    "\n",
    "        predictions_df = pd.read_sql_query(\"SELECT * FROM predictions\", conn)\n",
    "        predictions_df[\"timestamp\"] = pd.to_datetime(predictions_df[\"timestamp\"])\n",
    "\n",
    "        scheduled_tasks_df = pd.read_sql_query(\"SELECT * FROM scheduled_tasks\", conn)\n",
    "        scheduled_tasks_df[\"scheduled_time\"] = pd.to_datetime(scheduled_tasks_df[\"scheduled_time\"], errors='coerce')\n",
    "\n",
    "        anomalies_df = pd.read_sql_query(\"SELECT * FROM anomalies\", conn)\n",
    "        anomalies_df[\"timestamp\"] = pd.to_datetime(anomalies_df[\"timestamp\"])\n",
    "\n",
    "        # Group by switch_id and count anomalies\n",
    "        anomaly_counts = anomalies_df.groupby(\"switch_id\").size().reset_index(name=\"anomaly_count\")\n",
    "\n",
    "    finally:\n",
    "        conn.close()\n",
    "\n",
    "    # Return all DataFrames in a dictionary\n",
    "    return {\n",
    "        \"devices\": devices_df,\n",
    "        \"historical\": historical_df,\n",
    "        \"realtime\": realtime_df,\n",
    "        \"predictions\": predictions_df,\n",
    "        \"scheduled_tasks\": scheduled_tasks_df,\n",
    "        \"anomalies\": anomalies_df,\n",
    "        \"anomaly_counts\": anomaly_counts\n",
    "    }"
   ],
   "id": "11f11f398f97ca26",
   "outputs": [],
   "execution_count": 20
  },
  {
   "metadata": {
    "ExecuteTime": {
     "end_time": "2025-04-25T09:32:12.715216Z",
     "start_time": "2025-04-25T09:32:12.710456Z"
    }
   },
   "cell_type": "code",
   "source": [
    "data = load_energy_data()\n",
    "\n",
    "data[\"devices\"]\n",
    "data[\"historical\"]\n",
    "data['realtime']\n",
    "data['predictions']\n",
    "data['scheduled_tasks']\n",
    "data['anomalies']\n",
    "data['anomaly_counts']"
   ],
   "id": "369360e741e4a3d7",
   "outputs": [],
   "execution_count": null
  }
 ],
 "metadata": {
  "kernelspec": {
   "display_name": "Python 3",
   "language": "python",
   "name": "python3"
  },
  "language_info": {
   "codemirror_mode": {
    "name": "ipython",
    "version": 2
   },
   "file_extension": ".py",
   "mimetype": "text/x-python",
   "name": "python",
   "nbconvert_exporter": "python",
   "pygments_lexer": "ipython2",
   "version": "2.7.6"
  }
 },
 "nbformat": 4,
 "nbformat_minor": 5
}
