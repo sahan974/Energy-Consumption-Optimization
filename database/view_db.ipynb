{
 "cells": [
  {
   "cell_type": "code",
   "id": "initial_id",
   "metadata": {
    "collapsed": true,
    "ExecuteTime": {
     "end_time": "2025-04-24T18:39:42.144518Z",
     "start_time": "2025-04-24T18:39:42.108676Z"
    }
   },
   "source": [
    "import sqlite3\n",
    "import pandas as pd\n",
    "\n",
    "# Connect to the database\n",
    "conn = sqlite3.connect(\"database2.db\")\n",
    "\n",
    "# Load devices table\n",
    "devices_df = pd.read_sql_query(\"SELECT * FROM devices\", conn)\n",
    "devices_df"
   ],
   "outputs": [],
   "execution_count": null
  },
  {
   "metadata": {
    "ExecuteTime": {
     "end_time": "2025-04-24T18:39:46.497809Z",
     "start_time": "2025-04-24T18:39:46.475082Z"
    }
   },
   "cell_type": "code",
   "source": [
    "# Load historical energy readings\n",
    "historical_df = pd.read_sql_query(\"SELECT * FROM historical_energy_readings\", conn)\n",
    "historical_df[\"timestamp\"] = pd.to_datetime(historical_df[\"timestamp\"])\n",
    "historical_df"
   ],
   "id": "44f60b40da1f9938",
   "outputs": [],
   "execution_count": null
  },
  {
   "metadata": {
    "ExecuteTime": {
     "end_time": "2025-04-24T18:39:50.657556Z",
     "start_time": "2025-04-24T18:39:50.650725Z"
    }
   },
   "cell_type": "code",
   "source": [
    "# # Load real-time energy readings\n",
    "realtime_df = pd.read_sql_query(\"SELECT * FROM real_time_energy_readings\", conn)\n",
    "realtime_df[\"timestamp\"] = pd.to_datetime(realtime_df[\"timestamp\"])\n",
    "\n",
    "realtime_df"
   ],
   "id": "a6a4b67854681698",
   "outputs": [],
   "execution_count": null
  },
  {
   "metadata": {
    "ExecuteTime": {
     "end_time": "2025-04-24T18:39:55.657948Z",
     "start_time": "2025-04-24T18:39:55.647716Z"
    }
   },
   "cell_type": "code",
   "source": [
    "predictions_df = pd.read_sql_query(\"SELECT * FROM predictions\", conn)\n",
    "predictions_df[\"timestamp\"] = pd.to_datetime(predictions_df[\"timestamp\"])\n",
    "predictions_df"
   ],
   "id": "c8f2df8c2f65d530",
   "outputs": [],
   "execution_count": null
  },
  {
   "metadata": {
    "ExecuteTime": {
     "end_time": "2025-04-24T18:40:00.007575Z",
     "start_time": "2025-04-24T18:39:59.992573Z"
    }
   },
   "cell_type": "code",
   "source": [
    "# Load scheduled tasks table\n",
    "scheduled_tasks_df = pd.read_sql_query(\"SELECT * FROM scheduled_tasks\", conn)\n",
    "scheduled_tasks_df[\"scheduled_time\"] = pd.to_datetime(scheduled_tasks_df[\"scheduled_time\"], errors='coerce')  # Handle any nulls in 'scheduled_time'\n",
    "scheduled_tasks_df"
   ],
   "id": "2b95124c55ebae63",
   "outputs": [],
   "execution_count": null
  },
  {
   "metadata": {
    "ExecuteTime": {
     "end_time": "2025-04-24T18:40:03.163268Z",
     "start_time": "2025-04-24T18:40:03.144184Z"
    }
   },
   "cell_type": "code",
   "source": "conn.close()",
   "id": "e5262d61aaa6e3b7",
   "outputs": [],
   "execution_count": null
  }
 ],
 "metadata": {
  "kernelspec": {
   "display_name": "Python 3",
   "language": "python",
   "name": "python3"
  },
  "language_info": {
   "codemirror_mode": {
    "name": "ipython",
    "version": 2
   },
   "file_extension": ".py",
   "mimetype": "text/x-python",
   "name": "python",
   "nbconvert_exporter": "python",
   "pygments_lexer": "ipython2",
   "version": "2.7.6"
  }
 },
 "nbformat": 4,
 "nbformat_minor": 5
}
