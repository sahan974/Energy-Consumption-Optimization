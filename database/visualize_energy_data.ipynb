{
 "cells": [
  {
   "cell_type": "code",
   "id": "initial_id",
   "metadata": {
    "collapsed": true,
    "ExecuteTime": {
     "end_time": "2025-04-25T09:33:14.152381Z",
     "start_time": "2025-04-25T09:33:14.138833Z"
    }
   },
   "source": [
    "import pandas as pd\n",
    "import sqlite3\n",
    "import matplotlib.pyplot as plt\n",
    "import matplotlib.dates as mdates\n",
    "import seaborn as sns\n",
    "from datetime import datetime\n",
    "\n",
    "def plot_energy_consumption_trends(db_path=\"database2.db\"):\n",
    "    # Plot styling\n",
    "    plt.style.use('ggplot')\n",
    "    sns.set_palette(\"Blues\")\n",
    "\n",
    "    # Connect to the database\n",
    "    conn = sqlite3.connect(db_path)\n",
    "\n",
    "    try:\n",
    "        # ---------------- REAL-TIME ENERGY VISUALIZATION ----------------\n",
    "        realtime_query = \"\"\"\n",
    "        SELECT timestamp, SUM(power_consumption) AS total_power\n",
    "        FROM real_time_energy_readings\n",
    "        GROUP BY timestamp\n",
    "        ORDER BY timestamp\n",
    "        \"\"\"\n",
    "        realtime_df = pd.read_sql_query(realtime_query, conn)\n",
    "        realtime_df['timestamp'] = pd.to_datetime(realtime_df['timestamp'])\n",
    "        realtime_df['moving_avg'] = realtime_df['total_power'].rolling(window=5).mean()\n",
    "\n",
    "        # Plot real-time energy consumption\n",
    "        plt.figure(figsize=(14, 6))\n",
    "        plt.plot(realtime_df['timestamp'], realtime_df['total_power'],\n",
    "                 color=sns.color_palette(\"Blues\", 1)[0], alpha=0.8, linewidth=2, label='Real-Time Consumption')\n",
    "        plt.plot(realtime_df['timestamp'], realtime_df['moving_avg'],\n",
    "                 color='orange', alpha=0.8, linewidth=2, label='5-Min Moving Average')\n",
    "        plt.gca().xaxis.set_major_formatter(mdates.DateFormatter('%a %H:%M'))\n",
    "        plt.gca().xaxis.set_major_locator(mdates.HourLocator(interval=2))\n",
    "        plt.xticks(rotation=45)\n",
    "        plt.title(\"Real-Time Total Energy Consumption\", fontsize=16)\n",
    "        plt.xlabel(\"Time\", fontsize=12)\n",
    "        plt.ylabel(\"Power Consumption (W)\", fontsize=12)\n",
    "        plt.grid(True, alpha=0.3)\n",
    "        plt.legend(loc='upper left')\n",
    "        plt.tight_layout()\n",
    "        plt.show()\n",
    "\n",
    "        # ---------------- HISTORICAL ENERGY VISUALIZATION ----------------\n",
    "        historical_query = \"\"\"\n",
    "        SELECT timestamp, SUM(power_consumption) AS total_power\n",
    "        FROM historical_energy_readings\n",
    "        GROUP BY timestamp\n",
    "        ORDER BY timestamp\n",
    "        \"\"\"\n",
    "        hist_df = pd.read_sql_query(historical_query, conn)\n",
    "        hist_df['timestamp'] = pd.to_datetime(hist_df['timestamp'])\n",
    "        hist_df['moving_avg'] = hist_df['total_power'].rolling(window=7).mean()\n",
    "\n",
    "        # Plot historical energy consumption\n",
    "        plt.figure(figsize=(14, 6))\n",
    "        plt.plot(hist_df['timestamp'], hist_df['total_power'],\n",
    "                 color=sns.color_palette(\"Blues\", 1)[0], alpha=0.8, linewidth=2, label='Historical Consumption')\n",
    "        plt.plot(hist_df['timestamp'], hist_df['moving_avg'],\n",
    "                 color='red', alpha=0.8, linewidth=2, label='7-Day Moving Average')\n",
    "        plt.gca().xaxis.set_major_formatter(mdates.DateFormatter('%a %H:%M'))\n",
    "        plt.gca().xaxis.set_major_locator(mdates.DayLocator())\n",
    "        plt.xticks(rotation=45)\n",
    "        plt.title(\"Historical Total Energy Consumption\", fontsize=16)\n",
    "        plt.xlabel(\"Time\", fontsize=12)\n",
    "        plt.ylabel(\"Power Consumption (W)\", fontsize=12)\n",
    "        plt.grid(True, alpha=0.3)\n",
    "        plt.legend(loc='upper left')\n",
    "        plt.tight_layout()\n",
    "        plt.show()\n",
    "\n",
    "    finally:\n",
    "        conn.close()"
   ],
   "outputs": [],
   "execution_count": 3
  },
  {
   "metadata": {
    "ExecuteTime": {
     "end_time": "2025-04-25T09:33:14.189331Z",
     "start_time": "2025-04-25T09:33:14.182923Z"
    }
   },
   "cell_type": "code",
   "source": "plot_energy_consumption_trends()",
   "id": "75837f2e6a4ae925",
   "outputs": [],
   "execution_count": 4
  }
 ],
 "metadata": {
  "kernelspec": {
   "display_name": "Python 3",
   "language": "python",
   "name": "python3"
  },
  "language_info": {
   "codemirror_mode": {
    "name": "ipython",
    "version": 2
   },
   "file_extension": ".py",
   "mimetype": "text/x-python",
   "name": "python",
   "nbconvert_exporter": "python",
   "pygments_lexer": "ipython2",
   "version": "2.7.6"
  }
 },
 "nbformat": 4,
 "nbformat_minor": 5
}
